{
  "cells": [
    {
      "cell_type": "code",
      "execution_count": 14,
      "metadata": {
        "id": "6utv363zaFVg"
      },
      "outputs": [],
      "source": [
        "#!rm -rf data/spoof-mini"
      ]
    },
    {
      "cell_type": "code",
      "execution_count": 10,
      "metadata": {
        "colab": {
          "base_uri": "https://localhost:8080/"
        },
        "id": "io9l225GfAPD",
        "outputId": "449a2616-7bfd-4e27-d92c-5c75ddd93444"
      },
      "outputs": [
        {
          "name": "stdout",
          "output_type": "stream",
          "text": [
            "Cloning into 'VoiceCheck-AI'...\n",
            "remote: Enumerating objects: 14, done.\u001b[K\n",
            "remote: Counting objects: 100% (14/14), done.\u001b[K\n",
            "remote: Compressing objects: 100% (12/12), done.\u001b[K\n",
            "remote: Total 14 (delta 1), reused 5 (delta 0), pack-reused 0 (from 0)\u001b[K\n",
            "Receiving objects: 100% (14/14), done.\n",
            "Resolving deltas: 100% (1/1), done.\n",
            "/content/VoiceCheck-AI\n"
          ]
        }
      ],
      "source": [
        "!git clone https://github.com/Prasadkurapati/VoiceCheck-AI.git\n",
        "%cd VoiceCheck-AI"
      ]
    },
    {
      "cell_type": "code",
      "execution_count": null,
      "metadata": {
        "id": "FAlTYAqFxWPi"
      },
      "outputs": [],
      "source": [
        "!pip install torchaudio datasets --quiet"
      ]
    },
    {
      "cell_type": "code",
      "execution_count": 38,
      "metadata": {
        "id": "wvkkWmG3eTFU"
      },
      "outputs": [],
      "source": [
        "import os\n",
        "import torch\n",
        "import torchaudio\n",
        "import requests\n",
        "from tqdm import tqdm\n",
        "from pathlib import Path\n",
        "from datasets import load_dataset\n",
        "from torchaudio.datasets import LIBRISPEECH"
      ]
    },
    {
      "cell_type": "code",
      "execution_count": 30,
      "metadata": {
        "id": "7wOtX74RedNf"
      },
      "outputs": [],
      "source": [
        "#os.makedirs(\"data/spoof-mini/real\", exist_ok=True)\n",
        "#os.makedirs(\"data/spoof-mini/fake\", exist_ok=True)"
      ]
    },
    {
      "cell_type": "code",
      "execution_count": 31,
      "metadata": {
        "id": "tFsXgmWAv0LC"
      },
      "outputs": [],
      "source": [
        "#!df -h"
      ]
    },
    {
      "cell_type": "code",
      "execution_count": 32,
      "metadata": {
        "colab": {
          "base_uri": "https://localhost:8080/"
        },
        "id": "s2asyHTJv2zN",
        "outputId": "c9689b77-7b66-4d6b-87cd-f9c891eed5ed"
      },
      "outputs": [
        {
          "name": "stdout",
          "output_type": "stream",
          "text": [
            "Downloading 10 real samples from LIBRISPEECH (test-clean)...\n"
          ]
        },
        {
          "name": "stderr",
          "output_type": "stream",
          "text": [
            "100%|██████████| 331M/331M [00:10<00:00, 34.1MB/s]\n"
          ]
        },
        {
          "name": "stdout",
          "output_type": "stream",
          "text": [
            "Done! 10 real samples saved to 'data/spoof-mini/real/'\n"
          ]
        }
      ],
      "source": [
        "# Create target folder\n",
        "os.makedirs(\"data/spoof-mini/real\", exist_ok=True)\n",
        "\n",
        "# Download and load LIBRISPEECH test-clean subset (~300MB only)\n",
        "print(\"Downloading 10 real samples from LIBRISPEECH (test-clean)...\")\n",
        "dataset = LIBRISPEECH(root=\"data\", url=\"test-clean\", download=True)\n",
        "\n",
        "# Save first 10 samples as .wav\n",
        "for i in range(10):\n",
        "    waveform, sample_rate, _, _, _, _ = dataset[i]\n",
        "    torchaudio.save(f\"data/spoof-mini/real/real_{i}.wav\", waveform, sample_rate)\n",
        "\n",
        "print(\"Done! 10 real samples saved to 'data/spoof-mini/real/'\")"
      ]
    },
    {
      "cell_type": "code",
      "execution_count": 41,
      "metadata": {
        "colab": {
          "base_uri": "https://localhost:8080/"
        },
        "id": "-V-d98kvzpu0",
        "outputId": "df4e7c3b-a10d-47b1-8c7d-603da3c61fde"
      },
      "outputs": [
        {
          "name": "stdout",
          "output_type": "stream",
          "text": [
            "Downloading spoofed samples...\n"
          ]
        },
        {
          "name": "stderr",
          "output_type": "stream",
          "text": [
            "100%|██████████| 10/10 [00:00<00:00, 11.06it/s]"
          ]
        },
        {
          "name": "stdout",
          "output_type": "stream",
          "text": [
            "Done! Spoofed samples saved to data/spoof-mini/fake/\n"
          ]
        },
        {
          "name": "stderr",
          "output_type": "stream",
          "text": [
            "\n"
          ]
        }
      ],
      "source": [
        "os.makedirs(\"data/spoof-mini/fake\", exist_ok=True)\n",
        "\n",
        "fake_wav_urls = [\n",
        "    \"https://huggingface.co/Prasadkurapati/VoiceCheck-AI_FakeSamples/resolve/main/fake_0.wav\",\n",
        "    \"https://huggingface.co/Prasadkurapati/VoiceCheck-AI_FakeSamples/resolve/main/fake_1.wav\",\n",
        "    \"https://huggingface.co/Prasadkurapati/VoiceCheck-AI_FakeSamples/resolve/main/fake_2.wav\",\n",
        "    \"https://huggingface.co/Prasadkurapati/VoiceCheck-AI_FakeSamples/resolve/main/fake_3.wav\",\n",
        "    \"https://huggingface.co/Prasadkurapati/VoiceCheck-AI_FakeSamples/resolve/main/fake_4.wav\",\n",
        "    \"https://huggingface.co/Prasadkurapati/VoiceCheck-AI_FakeSamples/resolve/main/fake_5.wav\",\n",
        "    \"https://huggingface.co/Prasadkurapati/VoiceCheck-AI_FakeSamples/resolve/main/fake_6.wav\",\n",
        "    \"https://huggingface.co/Prasadkurapati/VoiceCheck-AI_FakeSamples/resolve/main/fake_7.wav\",\n",
        "    \"https://huggingface.co/Prasadkurapati/VoiceCheck-AI_FakeSamples/resolve/main/fake_8.wav\",\n",
        "    \"https://huggingface.co/Prasadkurapati/VoiceCheck-AI_FakeSamples/resolve/main/fake_9.wav\"\n",
        "]\n",
        "\n",
        "print(\"Downloading spoofed samples...\")\n",
        "for i, url in enumerate(tqdm(fake_wav_urls)):\n",
        "    resp = requests.get(url)\n",
        "    path = f\"data/spoof-mini/fake/fake_{i}.wav\"\n",
        "    with open(path, \"wb\") as file:\n",
        "        file.write(resp.content)\n",
        "\n",
        "print(\"Done! Spoofed samples saved to data/spoof-mini/fake/\")"
      ]
    },
    {
      "cell_type": "code",
      "execution_count": 46,
      "metadata": {
        "colab": {
          "base_uri": "https://localhost:8080/"
        },
        "id": "G11PVLLqzvpE",
        "outputId": "e844bf08-7e91-42d3-9716-0673491a77a0"
      },
      "outputs": [
        {
          "name": "stdout",
          "output_type": "stream",
          "text": [
            "/content/VoiceCheck-AI\n",
            "On branch main\n",
            "Your branch is ahead of 'origin/main' by 1 commit.\n",
            "  (use \"git push\" to publish your local commits)\n",
            "\n",
            "nothing to commit, working tree clean\n",
            "fatal: could not read Username for 'https://github.com': No such device or address\n"
          ]
        }
      ],
      "source": [
        "%cd /content/VoiceCheck-AI\n",
        "\n",
        "!git add .\n",
        "\n",
        "\n",
        "!git commit -m \"Added 01_data_setup.ipynb with real and fake audio samples\"\n",
        "\n",
        "\n",
        "!git push origin main"
      ]
    },
    {
      "cell_type": "code",
      "execution_count": null,
      "metadata": {
        "id": "M8ibBR_A6L_l"
      },
      "outputs": [],
      "source": []
    }
  ],
  "metadata": {
    "colab": {
      "authorship_tag": "ABX9TyO9pUHS+zYMMwB4r/ZtaKff",
      "provenance": []
    },
    "kernelspec": {
      "display_name": "Python 3",
      "name": "python3"
    },
    "language_info": {
      "name": "python",
      "version": "3.11.13"
    }
  },
  "nbformat": 4,
  "nbformat_minor": 0
}
